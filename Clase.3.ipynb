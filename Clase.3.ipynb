{
 "cells": [
  {
   "cell_type": "markdown",
   "metadata": {},
   "source": [
    "# FRA: Forward Rate Agreement\n",
    "\n",
    "In finance, a forward rate agreement (FRA) is a forward contract, an over-the-counter contract between parties that determines the rate of interest, or the currency exchange rate, to be paid or received on an obligation beginning at a future start date. The contract will determine the rates to be used along with the termination date and notional value.[1] On this type of agreement, it is only the differential that is paid on the notional amount of the contract. It is paid on the effective date. The reference rate is fixed one or two days before the effective date, dependent on the market convention for the particular currency. FRAs are over-the counter derivatives. FRAs are very similar to swaps except that in a FRA a payment is only made once at maturity. Instruments such as interest rate swap could be viewed as a chain of FRAs.\n",
    "\n",
    "Many banks and large corporations will use FRAs to hedge future interest or exchange rate exposure. The buyer hedges against the risk of rising interest rates, while the seller hedges against the risk of falling interest rates. Other parties that use Forward Rate Agreements are speculators purely looking to make bets on future directional changes in interest rates.[citation needed] The development swaps in the 1980s provided organisations with an alternative to FRAs for hedging and speculating.\n",
    "\n",
    "In other words, a forward rate agreement (FRA) is a tailor-made, over-the-counter financial futures contract on short-term deposits. A FRA transaction is a contract between two parties to exchange payments on a deposit, called the Notional amount, to be determined on the basis of a short-term interest rate, referred to as the Reference rate, over a predetermined time period at a future date. FRA transactions are entered as a hedge against interest rate changes. The buyer of the contract locks in the interest rate in an effort to protect against an interest rate increase, while the seller protects against a possible interest rate decline. At maturity, no funds exchange hands; rather, the difference between the contracted interest rate and the market rate is exchanged. The buyer of the contract is paid if the reference rate is above the contracted rate, and the buyer pays to the seller if the reference rate is below the contracted rate. A company that seeks to hedge against a possible increase in interest rates would purchase FRAs, whereas a company that seeks an interest hedge against a possible decline of the rates would sell FRAs."
   ]
  },
  {
   "cell_type": "markdown",
   "metadata": {},
   "source": [
    "# FRA\n",
    "\n",
    "$$f(t_0, T) = Le^{R_K(T^*-t)}e^{-r_{T^*}(T^*-t)}-Le^{-r_{T}(T-t)} = 0 \\Longrightarrow e^{R_{K}(T^*-T)}e^{-r_{T^*}(T^*-T)}  = e^{-r_{T}(T-T)} \\Longrightarrow R_K = \\frac{r_T^*(T^*-t)-r_T(T-t)}{T^*-T}$$\n",
    "\n",
    "El anterior es en tiempo cero. Ahora hagámoslo para cualquier tiempo $T$.\n",
    "\n",
    "$$f(t, T) = L\\Bigg[e^{R_K(T^*-t)}e^{-r_{T^*}(T^*-t)}-e^{-r_{T}(T-t)}\\Bigg] = L\\Bigg[e^{R_K(T^*-t)}e^{-r_{T^*}(T^*-t)}-e^{-r_{T}(T-t)+r_{T^*}(T^*-t)}\\Bigg]e^{-r_{T^*}(T^*-t)} = L\\Bigg[e^{R_K(T^*-t)-e^{\\frac{(r_T^*(T^*-t)-r_T(T-t))(T^*-t)}{T^*-T}}}\\Bigg] = L\\Bigg[e^{R_K(T^*-t)}e^{-r_{T^*}(T^*-t)}-e^{r^f(t, T, T^*)(T-t)}\\Bigg]e^{-r_{T^*}(T^*-t)} = FRA$$"
   ]
  },
  {
   "cell_type": "markdown",
   "metadata": {},
   "source": [
    "\n",
    "\n",
    "Podemos pensar a los SWAPS como un intercambio de FRACS. El SWAP es un intercambio de flujos de un bono de tasa fija por un bono de tasa varibale. Se establece primero un nocional $L$ y sobre el nocional se decide el tiempo. Comenzamos con $t_0$ y vamos hasta $t_1$, $t_2$, ..., $t_n$. En el periodo cero yo recibo un préstamo a tasa variable y hago un préstamo a tasa fija. Véase la figura para proseguir con la discusión. Un FRA es un intercambio de flujo, mientras que un SWAP es $n$  intercambios de flujos. Veamos un SWAP \"plain vanilla\" (con $L$ fija). \n",
    "\n",
    "||  Pata variable |Pata fija   |Neto   | Valor presente| \n",
    "|---|---|---|---| |\n",
    "|   $\\frac{1}2 \\quad T_0$|$-L$   |$+L$   |$0$   |  $\\frac{1}2[(r^{fija}-r^{f})(e^{-r_{T_1}(T_1-T_0)})]$|\n",
    "|  $T_1$ | $-\\frac{1}2 r_{T_1}L$  |$\\frac{1}{2}r^{fija}L$   |$\\frac{1}{2}(r^{fija} - r_{T_1, T_0})L$   | $\\frac{1}2[(r^{fija}-r^{f})(e^{-r_{T_2}(T_2-T_1)})]$|\n",
    "|  ... |   |   |   | |\n",
    "|  $T_N$ |$-\\frac{1}2 r_{T_N, T_{N-1}}L+L$   |$\\frac{1}2r^{fija}L+L$   |  $\\frac{1}2(r^{fo}-r_{T_N, T_{N-1}})$ |   $\\frac{1}2[(r^{fija}-r^{f})(e^{-r_{T_N}(T_N-T_{N-1})})]$|\n"
   ]
  },
  {
   "cell_type": "markdown",
   "metadata": {},
   "source": [
    "El SWAP le permite a un banco eliminar el riesgo de tasa variable e intercambiarlo por uno de tasa fija. El enfoque que hemos presentado, un SWAP es un portafolio de FRACS.La tasa fija va a ser un promedio ponderado de todas las tasas variables de los fracs. Para lo único que sirve $L$ es para que el diferencial de tasas se vaya modificando. \n",
    "\n"
   ]
  },
  {
   "cell_type": "markdown",
   "metadata": {},
   "source": [
    "# Enfoque alternativo de ver un SWAP (como analizar el precio de un bono con cupones)"
   ]
  },
  {
   "cell_type": "markdown",
   "metadata": {},
   "source": [
    "La tasa cupón va a ser la tasa fija, la tasa SWAP. Este será un bono flotante, ya que es un bono cuyos cupones no están fijos. La tasa variable estará constituido como un bono flotante. Para que el intercambio sea justo, el bono de tasa fija tiene que valer par. Vamos a ajustar la tasa SWAP para conseguir esto. Las tasas SWAP, forward y SPOT son la misma cosa, son derivados. Expresan diferentes instrumentos. Con una se pueden obtener las demás. Si yo te doy la spot, puedes construir la IRS. "
   ]
  },
  {
   "cell_type": "markdown",
   "metadata": {},
   "source": [
    "||  Pata Fija |Pata Variable|   \n",
    "|---|---|---|\n",
    "|  $T_1$ | $\\frac{1}2 r^{fija}L$  |$\\frac{1}{2}r^{f}(t_0,T_0, T_1 )L$   | \n",
    "|  $T_2$ | $\\frac{1}2 r^{fija}L$  |$\\frac{1}{2}r^{f}(t_0,T_1, T_2 )L$    |\n",
    "|  ... |   |   |   \n",
    "|  $T_N$ |$\\frac{1}2 r^{fija}L+L$   |$\\frac{1}{2}r^{f}(t_0,T_{N-1}, T_N )L+L$  |   \n",
    "\n",
    "$$\\beta^{Fijo} = \\sum_{j=T_1}^{T_{N-1}}(\\frac{1}{2}r^{swap}L)e^{-r_jJ}+Le^{-r_{TN}T_N} = L \\Longrightarrow \\frac{1}{2}r^{swap}\\sum e^{-r_jJ} = 1-e^{-r_{T_N}T_N} \\Longrightarrow r^{swap} = 2\\Bigg[\\frac{1-e^{-r_{T_N}T_N}}{\\sum_{j=T_1}^{T_{N-1}}}\\Bigg]$$\n",
    "\n",
    "Graficar aquí abajo la IRS"
   ]
  },
  {
   "cell_type": "markdown",
   "metadata": {},
   "source": [
    "## ¿Qué pasa ahora si hacemos un SWAP con monedas diferentes? Cross Currency SWAP\n",
    "\n"
   ]
  },
  {
   "cell_type": "markdown",
   "metadata": {},
   "source": [
    "||  Pata Fija |Pata Variable|   \n",
    "|---|---|---|\n",
    "|  $T_1$ | $\\frac{1}2 r^{\\$fija}L^{\\$}F^{dolar} $ |$\\frac{1}{2}r^{f}(t_0,T_0, T_1 )L^{MX}$   | \n",
    "|  $T_2$ | $\\frac{1}2 r^{\\$fija}L^{\\$}F^{dolar} $  |$\\frac{1}{2}r^{f}(t_0,T_1, T_2 )L^{MX}$    |\n",
    "|  ... |   |   |   \n",
    "|  $T_N$ |$\\frac{1}2 r^{\\$fija}L^{\\$}F^{dolar}+L^{\\$}$   |$\\frac{1}{2}r^{f}(t_0,T_{N-1}, T_N )L^{MX}+L^{MX}$  |  "
   ]
  },
  {
   "cell_type": "markdown",
   "metadata": {},
   "source": [
    "Pueden haber SWAPS de acciones, de equity. En este caso, todos los dividendos que esta acción pague, me los tienes que dar. Ver acción de ELEKTRA. El dueño de elektra (Ricardo Salinas), el cual tiene mala reputación porque es tramposo. Todos los meses hay compras de acciones, dado que hay que tener todo lo que está en el índice y elektra está en ese índice. Para estar en el índice, puede comprar sus propias acciones. El riesgo de esa estrategia es que el número de acciones se reduce y entonces te sacan del índice. Para estar en el índice tienes que tener un porcentaje de acciones mínimo. Si te sacan del índice, los afores ya no quieren comprar tus acciones. Este señor fue con un intermediario financiero de UBS y le pidió un total returns swap. Le dijo, tú me vas a pagar todas las subidas de precio de elektra. Tú me vas a pasar todos los dividendos que yo pago más el aumento de precio que pague la acción y a cambio yo te voy a pagar una tasa de interés. El hombre le pudo haber pedido dos o tres veces la TIIE, como 7%. Lo que pasa es que UBS enfrentó un riesgo, que sube mucho el precio de la acción. Para lograr que no suba mucho, va a comprar la acción de elektra. Si sube, tiene las acciones y le paga lo que las acciones le dieron. Si baja, entonces Ricardo le paga a UBS. La consecuencia es que disminuye el número de acciones en circulación y entran en el balance de UBS. Por lo tanto, el precio se fue en una alza de 200 pesos hasta casi dos mil pesos. El director de MEXDER dijo \"vamos a sacar a Elektra del índice\". La definición del índice tuvo que cambiar. Ricardo demandó a Luis Téllez. De forma ad hoc cambiaron la regla. A eso se le llama \"Total Return SWAP\". Como este hombre es tramposo, tiene un daño reputacional tremendo. \n",
    "\n",
    "   Otro ejemplo, los extranjeros comenzaron a comprar deuda de corto plazo en el 95. Les cambiaron los cetes por cetes en dólares. Merryl Linch y JP Morgan compraron esos tesobonos. En México argumentaban que esto era una muestra de confianza en México. Los extranjeros venían y se volteavan con los bancos mexicanos. Los bancos mexicanos aceptaban pagarles a ellos una taasa fija en dólares. A cambio, los americanos les pagaban el total return de los mismos bonos que les habían comprado al gobierno. Cuando México entró en crisis y no pudo pagar, en medio había un swap. \n",
    "   \n",
    "  El banco quiere dar hipotecas, pero tiene que darlas a tasa fija y no le conviene porque sus pasivos son a tasa variable. No hay problema. Aplica un SWAP."
   ]
  }
 ],
 "metadata": {
  "kernelspec": {
   "display_name": "Python 3",
   "language": "python",
   "name": "python3"
  },
  "language_info": {
   "codemirror_mode": {
    "name": "ipython",
    "version": 3
   },
   "file_extension": ".py",
   "mimetype": "text/x-python",
   "name": "python",
   "nbconvert_exporter": "python",
   "pygments_lexer": "ipython3",
   "version": "3.5.1"
  }
 },
 "nbformat": 4,
 "nbformat_minor": 0
}
