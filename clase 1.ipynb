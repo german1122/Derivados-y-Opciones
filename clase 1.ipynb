{
 "cells": [
  {
   "cell_type": "markdown",
   "metadata": {},
   "source": [
    "# Opciones"
   ]
  },
  {
   "cell_type": "markdown",
   "metadata": {},
   "source": [
    "$$S_t \\sim f(S, T-t)$$\n",
    "\n",
    "$f \\equiv$ futuro o derivado\n",
    "$S \\equiv$ subyacente\n",
    "$T-t \\equiv$ fecha de vencimiento\n",
    "\n",
    "Podemos indagar sobre la función $f$. \n",
    "\n",
    "* Ejemplo: Estructura de un contrato de futuro\n",
    "\n",
    "$T-t = $ Junio 16\n",
    "\n",
    "$S_t = $ Dólar\n",
    "\n",
    "$X_T = S_t - K $\n",
    "\n",
    "$K = 18 \\equiv$ Precio de liquidación de la mercancía\n",
    " \n",
    "Si yo estoy largo en ese contrato de futuro, vamos a ver cómo está el dólar. Supongamos que $K = 18$ Cuando estoy Long, estoy obligado a comprar dólares en una fecha futura a un precio determinado. Cuando estoy short, estoy obligado a vender dólares en una fecha futura a un determinado precio. Ese contrato implica un riesgo. Si yo compré a 18 y se va a 20, entonces gané, un upside risk. Si el precio se va a 16, entonces tengo un downside risk. Lo anterior depende de si estás largo o corto."
   ]
  },
  {
   "cell_type": "code",
   "execution_count": null,
   "metadata": {
    "collapsed": true
   },
   "outputs": [],
   "source": [
    "pic 1"
   ]
  },
  {
   "cell_type": "markdown",
   "metadata": {},
   "source": [
    "El mercado spot se conoce como el mercado de contado. Es un mercado interbancario. Los bancos ofertan vender y comprar dólares de forma electrónica. Lo haces en el mercado interbancario. El mercado del dólar es sumamente líquido (diariamente se operan 132 mil millones de dólares). Operación forward: operación a futuro. Otra de las características es el riesgo de contraparte. Qué tan solvente es la parte que vende para cumplir con su compromiso. En los futuros, el riesgo de crédito o contraparte es minimizable. "
   ]
  },
  {
   "cell_type": "code",
   "execution_count": null,
   "metadata": {
    "collapsed": true
   },
   "outputs": [],
   "source": [
    "pic 2"
   ]
  },
  {
   "cell_type": "markdown",
   "metadata": {},
   "source": [
    "## Mercados de Derivados\n",
    "\n",
    "Organizados: \n",
    "* una bolsa de derivados, aunque no necesariemante una bolsa tradicional. Ésta es una bolsa donde se venden y compran instrumentos. Toda persona que opera en un mercado organizado, opera contra la contraparte central (no me importa quién hizo la contraparte. Yo tengo una exigencia contra una empresa que se llama ASIGNA).\n",
    "* Estándar\n",
    "* Riesgo de contraparte (minimizable)\n",
    "\n",
    "En un mercado OTC se establece un riesgo de contraparte entre vendedor y comprador. Actúan simultaneamente. En un mercado organizado siempre hay alguien en medio del vendedor y el comprador: la contraparte central. Es decir, yo opero anónimamente. ASIGNA nació como cámara de MEXDER. Forward si es un OTC, Futuro si es organizado. "
   ]
  },
  {
   "cell_type": "markdown",
   "metadata": {},
   "source": [
    "Mercados OTC (over the counter):\n",
    "    * Riesgo de contraparte"
   ]
  },
  {
   "cell_type": "markdown",
   "metadata": {},
   "source": [
    "   Margen\n",
    "\n",
    "Depósito Inicial 1 | Depósito Inicial 2\n",
    "--- | --- \n",
    "$+p_T_1$ | $-p_t_1$\n",
    "$D_T_1$ | $D_T_1$ "
   ]
  },
  {
   "cell_type": "markdown",
   "metadata": {},
   "source": [
    "Podemos clasificar a los individuos en un mercado: \n",
    "\n",
    "    1) Hayers: individuo que trata de trasladar el riesgo. Ejemplo: Una empresa (de zapatos) que por la naturaleza de la misma vende en dólares (está \"larga\" por la naturaleza del negocio). Sus costos van a estar en pesos. Sus ingresos están en dólares. Esta empresa necesita vender sus dólares para cubrir sus costos. Si el dólar baja mucho de valor, puede perder dinero. Esta empresa pierde dinero cuando el peso se aprecia respecto al dólar. El caso short (corto) sería el de una empresa que vende en pesos y vende en dólares. Si no existieran nada más que Hayers, el mercado sería profundamente inestable. \n",
    "    \n",
    "    2) Especuladores: van a participar en el mercado de derivados no porque necesiten trasladar el riesgo, sino para tomar ventaja del mismatch entre compradores y vendedores. Contribuyen a que el mercado se equilibre. Cuando en el mercado hay muchos vendedores y pocos compradores, entonces los especuladores entrarían a comprar y así estabilizar el precio. En este sentido, ellos disminuyen la volatilidad. Es decir, logran que se estabilice el precio y disminuya la volatilidad. En un mercado de derivados es muy importante la posición de los especuladores.\n",
    "    \n",
    "    3) Market Makers: son agentes que están intentando de hacer una posición a muy corto plazo. Están obligados a comprometerse a comprar o vender en todo momento. Es decir, el mercado nunca se queda sin agentes que estén dispuestos a comprar y vender. Los market makers son necesarios para que siempre haya alguien a poner una postura. En momentos de volatilidad, se protegen para no tener pérdida, por lo que en un momento de volatilidad abren sus spreads para protegerse. \n",
    "   \n",
    "   Normalmente una operación otc es mediante una institución financiera y un cliente final. Lo más común de un OTC es un banco con otro banco. "
   ]
  },
  {
   "cell_type": "markdown",
   "metadata": {},
   "source": [
    "Ejemplo: una mercancía que no tiene flujo ni de intereses ni de dividendos. Supongamos que la mercancía es un departamento, el cual posee una renta asociada. Si tengo una onza de oro, al final tendré una onza de oro nada más, ya que la onza de oro no produce una onza de hora. Si tengo un bono, al final tendré el mismo bono con menos tiempo para vencer más un cupón. El departamento si deja una renta al final del periodo. Sea el portafolio A:\n",
    "\n",
    "K es el precio fijo al cual nos hemos comprometido a comprar la mercancía\n",
    "\n",
    "$$A \\sim f(S_t, T-t) + Ke^{-r(T-t)}\\quad p^{oro} = 1·e^{-r(T-t)} $$\n",
    "\n",
    "$$B \\sim 1·S_t, t=T$$\n",
    "\n",
    "$$A \\sim (S_T - k) + k = S_T$$\n",
    "\n",
    "$$B \\sim S_T$$\n",
    "\n",
    "Para que no haya oportunidades de arbitraje, \n",
    "\n",
    "$$f(S_t,T-t) + ke^{-r(T-t)} = S_t$$\n",
    "\n",
    "Es decir, el único valor del derivado que elimina las oportunidades de arbitraje es éste:\n",
    "\n",
    "$$f(S_t, T-t = S_t - ke^{-r(T-t)}), \\forall t$$\n",
    "\n",
    "En $t= 0$, \n",
    "\n",
    "$$f(S_0, t) = S_0 - ke^{-rT} = 0 \\Longrightarrow k = S_0e^{rT} = F(S_0, T) \\Longrightarrow F(S_0, T) = S_te^{rT}$$, \n",
    "\n",
    "Ecuación de primer orden lineal. Así, el precio de liquidación debe ser $K = S_0e^{rT}$. A este precio le vamos a llamar el futuro de la mercancía. Es decir, el valor del derivado va a depender de cómo se mueva el precio spot.\n",
    "\n",
    "$$f(S_t, T-t) = \\Big(S_te^{r(T-t)}-K\\Big)e^{-r(T-t)} = \\Big(F(S_t, T-t)-K\\Big)e^{-r(T-t)} $$\n",
    "\n",
    "\n",
    "\n",
    "\n",
    "\n",
    "\n"
   ]
  },
  {
   "cell_type": "markdown",
   "metadata": {},
   "source": [
    "Supongamos que $I = D_1e^{-r(T_1-t)}$; $T_1 < T$\n",
    "\n",
    "$$I = \\sum_{J=T_1}^{T_N} D_j e^{-r(T_j-t)}$$\n",
    "\n",
    "$$A \\sim f(S_t, T-t) + Ke^{-r(T-t)}$$\n",
    "\n",
    "$$B \\sim S_t - I$$\n",
    "\n",
    "$$\\tilde{A} \\sim S_t$$\n",
    "$$\\tilde{B} \\sim S_t$$\n",
    "\n",
    "Así, \n",
    "\n",
    "$$f(S_t, T-t) = (S_t - I) - Ke^{-r(T-t)} \\Longrightarrow F(S_t, T-t) = (S_t-I)e^{r(T-t)}$$\n",
    "\n",
    "Así, \n",
    "\n",
    "$$f(S_t, T-t) = (F(S_t, T-t) - k)e^{-r(T-t)}$$\n",
    "\n",
    "$$S_t -I = S_te^{-q(T-t)} \\Longrightarrow q = \\frac{-ln(S_t - I)}{T-t}$$\n",
    "\n",
    "$$f(S_t, T-t) = S_te^{-q(T-t)} - ke^{-r(T-t)}$$\n",
    "\n",
    "$$F(S_t, T-t) = S_te^{(r-q)(T-t)} \\Longrightarrow f(S_t, T-t) = [F(S_t, T-t) - k]e^{-r(T-t)}$$\n",
    "\n"
   ]
  },
  {
   "cell_type": "markdown",
   "metadata": {},
   "source": [
    "Ahora supongamos lo siguiente:\n",
    "    \n",
    "\n",
    "   $$F > S_te^{r(T-t)}$$\n",
    "    \n",
    "    * Short F\n",
    "   Recibiré $S_0e^r(T-t)$\n",
    "   Entregar 1 mercancía en $S_T$\n",
    "   \n",
    "    * Compro\n",
    "   $S_0$\n",
    "    * Préstamo:\n",
    "   $S_0$ a $r$\n",
    "   \n",
    "   $$-(S_t - k) + S_T - S_0e^{r(T-t)} = -S_T + S_T + k - S_0e^{r(T-t)} = F - S_0e^{r(T-t)} > 0$$\n",
    "   \n",
    "   Por lo tanto, lo supuesto no es posible. "
   ]
  },
  {
   "cell_type": "markdown",
   "metadata": {},
   "source": [
    "Ahora supongamos $$F < S_0e^{r(T-t)}$$\n",
    "\n",
    "* Long f(·)\n",
    "\n",
    "* Short la mercancía; $S_0$\n",
    "\n",
    "* Invertir a la tasa ilbre de riesgo\n",
    "\n",
    "Así, \n",
    "\n",
    "$$+(S_T-k) - S_T S_0e^{r(T-t)} = S_T - S_T - F + S_0e^{r(T-t)} = S_0e^{r(T-t)} - F >0$$\n",
    "\n",
    "Por tanto, lo supuesto no puede cumplirse. "
   ]
  },
  {
   "cell_type": "markdown",
   "metadata": {},
   "source": [
    "Lo anterior no se podría cumplir en caso de no existir la posibilidad de la venta en corto. Eso implicaría que $F < S_0e^{r(T-t)} \\Longrightarrow e^{y(T-t)} = S_0e^{r(T-t)} \\Longrightarrow F = S_0e^{(r-y)(T-t)}$"
   ]
  },
  {
   "cell_type": "markdown",
   "metadata": {},
   "source": [
    "$$\\tilde{F} = S_0e^{(r+q-y)(T-t)}$$"
   ]
  },
  {
   "cell_type": "markdown",
   "metadata": {},
   "source": [
    "En general, $F = S_0e^{c(T-t)}$"
   ]
  }
 ],
 "metadata": {
  "kernelspec": {
   "display_name": "Python 2",
   "language": "python",
   "name": "python2"
  },
  "language_info": {
   "codemirror_mode": {
    "name": "ipython",
    "version": 2
   },
   "file_extension": ".py",
   "mimetype": "text/x-python",
   "name": "python",
   "nbconvert_exporter": "python",
   "pygments_lexer": "ipython2",
   "version": "2.7.10"
  }
 },
 "nbformat": 4,
 "nbformat_minor": 0
}
